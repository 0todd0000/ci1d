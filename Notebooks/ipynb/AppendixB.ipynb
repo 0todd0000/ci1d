{
 "cells": [
  {
   "cell_type": "markdown",
   "metadata": {},
   "source": [
    "# Appendix A:  Confidence and prediction intervals for univariate 0D data\n",
    "\n",
    "This appendix describes how to construct and numerically validate [confidence intervals](https://en.wikipedia.org/wiki/Confidence_interval) (CIs) and [prediction intervals](https://en.wikipedia.org/wiki/Prediction_interval) (PIs) for [univariate](https://en.wikipedia.org/wiki/Univariate) 0D data. \"Univariate\" implies a scalar quantity and \"0D\" implies a zero-dimensional, stationary process (i.e, a quantity that does not change over some domain like time). Below and throughout this Supplementary Material a Type I error rate ($\\alpha$=0.05) is used, implying 95% CIs and PIs.\n",
    "\n",
    "\n",
    "<p style=\"text-align: center;\"><b>Glossary</b></p>\n",
    "\n",
    "<table align=\"center\">\n",
    "  <tr>\n",
    "    <th style=\"text-align:center\">Symbol</th>\n",
    "    <th style=\"text-align:center\">Description</th>\n",
    "    <th style=\"text-align:center\">Comment</th>\n",
    "  </tr>\n",
    "  <tr>\n",
    "    <td style=\"text-align:center\">$\\alpha$</td>\n",
    "    <td style=\"text-align:center\">Type I error rate</td> \n",
    "    <td style=\"text-align:center\">$\\alpha=0.05$ by convention; univariate intervals use $\\alpha$/2 for two-tailed inference</td>\n",
    "  </tr>\n",
    "  <tr>\n",
    "    <td style=\"text-align:center\">$\\mu$</td>\n",
    "    <td style=\"text-align:center\">Population mean</td> \n",
    "    <td style=\"text-align:center\">$\\mu = 0 $ in all examples below </td>\n",
    "  </tr>\n",
    "  <tr>\n",
    "    <td style=\"text-align:center\">$\\sigma$</td>\n",
    "    <td style=\"text-align:center\">Population standard deviation</td> \n",
    "    <td style=\"text-align:center\">$\\sigma=1$ in all examples below</td>\n",
    "  </tr>\n",
    "  <tr>\n",
    "    <td style=\"text-align:center\">$\\textit{J}$</td>\n",
    "    <td style=\"text-align:center\">Sample size</td> \n",
    "    <td style=\"text-align:center\"></td>\n",
    "  </tr>\n",
    "  <tr>\n",
    "    <td style=\"text-align:center\">$\\nu$</td>\n",
    "    <td style=\"text-align:center\">Degrees of freedom</td> \n",
    "    <td style=\"text-align:center\">For univariate data: $\\nu=J-1$</td>\n",
    "  </tr>\n",
    "  <tr>\n",
    "    <td style=\"text-align:center\">$c$</td>\n",
    "    <td style=\"text-align:center\">Critical test statistic value</td> \n",
    "    <td style=\"text-align:center\">From Student's t distribution</td>\n",
    "  </tr>\n",
    "  <tr>\n",
    "    <td style=\"text-align:center\">$\\overline{y}$</td>\n",
    "    <td style=\"text-align:center\">Sample mean</td> \n",
    "    <td style=\"text-align:center\"></td>\n",
    "  </tr>\n",
    "  <tr>\n",
    "    <td style=\"text-align:center\">$s$</td>\n",
    "    <td style=\"text-align:center\">Sample standard deviation</td> \n",
    "    <td style=\"text-align:center\"></td>\n",
    "  </tr>\n",
    "</table>\n",
    "\n"
   ]
  },
  {
   "cell_type": "markdown",
   "metadata": {},
   "source": [
    "___\n",
    "\n",
    "### Confidence intervals (CIs)\n",
    "\n",
    "A 100(1-$\\alpha$)% [confidence interval](https://en.wikipedia.org/wiki/Confidence_interval) contains the true population mean with a probability of (1-$\\alpha$), and is defined as:\n",
    "\n",
    "CI $\\equiv \\overline{y} \\pm \\frac{cs}{\\sqrt{J}}$\n",
    "\n",
    "where $c$ is the $(1-\\frac{\\alpha}{2})$th percentile of the Student's t distribution with $\\nu=(J-1)$ degrees of freedom.\n",
    "\n",
    "To demonstrate the computation of a 95% CI, let's start with random data from the standard normal distribution (i.e., $\\mu$=0, $\\sigma$=1):"
   ]
  },
  {
   "cell_type": "code",
   "execution_count": 1,
   "metadata": {},
   "outputs": [
    {
     "data": {
      "image/png": "[encoded data removed]",
      "text/plain": [
       "<Figure size 576x216 with 1 Axes>"
      ]
     },
     "metadata": {
      "needs_background": "light"
     },
     "output_type": "display_data"
    }
   ],
   "source": [
    "import numpy as np\n",
    "from scipy import stats\n",
    "%matplotlib inline\n",
    "from matplotlib import pyplot as plt\n",
    "from matplotlib.patches import Polygon\n",
    "from matplotlib.collections import PatchCollection\n",
    "\n",
    "'''\n",
    "Note: the random number generator is seeded with a value \"32\" instead of\n",
    "a more usual value like \"0\" or \"1\".\n",
    "\n",
    "This is done deliberately, to demonstrate a case where a random sample's\n",
    "confidence interval does not contain the true population mean (i.e., zero)\n",
    "'''\n",
    "\n",
    "np.random.seed(32)     # seed the random number generator to replicate results\n",
    "J = 8                  # sample size\n",
    "y = np.random.randn(J) # Gaussian data (standard normal distribution)\n",
    "\n",
    "fig,ax = plt.subplots(1, 1, figsize=(8,3))\n",
    "ax.plot(y, [0]*J, 'bo', ms=8, zorder=1, label='Gaussian data ($\\mu$=0)')\n",
    "ax.axhline(0, color='0.7', ls='-', zorder=0)\n",
    "ax.axvline(0, color='0.7', ls='-', zorder=0)\n",
    "ax.set_yticks([])\n",
    "ax.legend()\n",
    "plt.show()"
   ]
  },
  {
   "cell_type": "markdown",
   "metadata": {},
   "source": [
    "The `confidence_interval` function below implements the equation above. For convenience and subsequent use, plotting functions are also provided below."
   ]
  },
  {
   "cell_type": "code",
   "execution_count": 2,
   "metadata": {},
   "outputs": [
    {
     "name": "stdout",
     "output_type": "stream",
     "text": [
      "Confidence interval: [0.16346608 1.28165372]\n"
     ]
    },
    {
     "data": {
      "image/png": "[encoded data removed]",
      "text/plain": [
       "<Figure size 576x288 with 1 Axes>"
      ]
     },
     "metadata": {
      "needs_background": "light"
     },
     "output_type": "display_data"
    }
   ],
   "source": [
    "def confidence_interval(y, alpha=0.05):\n",
    "    '''\n",
    "    Compute confidence interval for 0D univariate data.\n",
    "    '''\n",
    "    J    = y.size                   # sample size\n",
    "    ybar = y.mean()                 # sample mean\n",
    "    s    = y.std(ddof=1)            # sample standard deviation\n",
    "    df   = J - 1                    # degrees of freedom\n",
    "    c    = stats.t.isf(alpha/2, df) # critical test statistic\n",
    "    w    = c * s / J**0.5           # interval width\n",
    "    ci   = ybar-w, ybar+w           # confidence interval\n",
    "    return np.array(ci)\n",
    "\n",
    "\n",
    "def plot_data(ax, y, plot_sample_mean=True, population_mean=None):\n",
    "    '''\n",
    "    Scatter plot for univariate 0D data.\n",
    "    '''\n",
    "    ax.plot(y, np.zeros(J), 'ko', label='Observations')\n",
    "    if plot_sample_mean:\n",
    "        ax.plot(y.mean(), 0, 'ko', label='Sample mean', ms=15, mfc='w')\n",
    "    if population_mean is not None:\n",
    "        mu = population_mean\n",
    "        ax.plot(mu, 0, 'go', label='True population mean', ms=15, mfc='w', mew=5)\n",
    "        ax.axvline(mu, color='k', ls=':', zorder=-1)\n",
    "\n",
    "    \n",
    "def plot_interval(y, interval, color='r', height=1, alpha=0.05, label='Confidence Interval'):\n",
    "    '''\n",
    "    Interval plot for univariate 0D data.\n",
    "    '''\n",
    "    h,hh     = height, 0.5 * height\n",
    "    x        = interval\n",
    "    ax.plot( [x[0]]*2, [-h, h], color=color, label='%d%s %s' %(100*(1-alpha),'%', label))\n",
    "    ax.plot( [x[1]]*2, [-h, h], color=color)\n",
    "    vertices = [(x[0], -hh), (x[1], -hh),    (x[1], hh), (x[0], hh)]\n",
    "    patches  = PatchCollection([Polygon(vertices)])\n",
    "    ax.add_collection(patches)\n",
    "    plt.setp(patches, facecolor=color, alpha=0.5, linewidth=0)\n",
    "    ax.set_ylim(-2, 5)\n",
    "    ax.set_yticks([])\n",
    "    \n",
    "\n",
    "    \n",
    "# compute 95% confidence interval:    \n",
    "ci = confidence_interval(y, alpha=0.05)\n",
    "print('Confidence interval: %s' %ci)\n",
    "\n",
    "\n",
    "# plot:\n",
    "fig, ax = plt.subplots(1, 1, figsize=(8, 4))\n",
    "plot_data(ax, y, plot_sample_mean=True, population_mean=0)\n",
    "plot_interval(ax, ci)\n",
    "ax.legend()\n",
    "plt.show()"
   ]
  },
  {
   "cell_type": "markdown",
   "metadata": {},
   "source": [
    "Note that a 95% CI is expected to contain the true population mean in 95% of a large number of experiments. In this case it does not contain the population mean, implying a [false positive](https://en.wikipedia.org/wiki/False_positives_and_false_negatives#False_positive_error). This result is a false positive because one would incorrectly conclude that the sample mean is significantly different from the true population mean of $\\mu$=0."
   ]
  },
  {
   "cell_type": "markdown",
   "metadata": {},
   "source": [
    "___\n",
    "\n",
    "### Prediction intervals\n",
    "\n",
    "A 100(1-$\\alpha$)% [prediction interval](https://en.wikipedia.org/wiki/Prediction_interval) contains a new observation with a probability of $(1-\\alpha)$, and is defined as:\n",
    "\n",
    "PI $\\equiv \\overline{y} \\pm cs \\sqrt{1+(1/J)}$"
   ]
  },
  {
   "cell_type": "code",
   "execution_count": 3,
   "metadata": {},
   "outputs": [
    {
     "name": "stdout",
     "output_type": "stream",
     "text": [
      "Prediction interval: [-0.95472155  2.39984136]\n"
     ]
    },
    {
     "data": {
      "image/png": "[encoded data removed]",
      "text/plain": [
       "<Figure size 576x288 with 1 Axes>"
      ]
     },
     "metadata": {
      "needs_background": "light"
     },
     "output_type": "display_data"
    }
   ],
   "source": [
    "def prediction_interval(y, alpha=0.05):\n",
    "    J    = y.shape[0]\n",
    "    ybar = y.mean()                 # sample mean\n",
    "    s    = y.std(ddof=1)            # sample standard deviation\n",
    "    df   = J - 1                    # degrees of freedom\n",
    "    c    = stats.t.isf(alpha/2, df) # critical test statistic\n",
    "    w    = c * s * (1+(1/J))**0.5   # interval width\n",
    "    pi   = ybar-w, ybar+w           # prediction interval\n",
    "    return np.array(pi)\n",
    "\n",
    "pi = prediction_interval(y)\n",
    "\n",
    "\n",
    "# compute 95% prediction interval:    \n",
    "pi = prediction_interval(y, alpha=0.05)\n",
    "print('Prediction interval: %s' %pi)\n",
    "\n",
    "\n",
    "# plot:\n",
    "fig, ax = plt.subplots(1, 1, figsize=(8, 4))\n",
    "plot_data(ax, y, plot_sample_mean=True, population_mean=0)\n",
    "plot_interval(ax, pi, color='b', label='Prediction Interval')\n",
    "ax.legend()\n",
    "plt.show()"
   ]
  },
  {
   "cell_type": "markdown",
   "metadata": {},
   "source": [
    "We could generate a new random observation, then check whether it lies in the PI:"
   ]
  },
  {
   "cell_type": "code",
   "execution_count": 4,
   "metadata": {},
   "outputs": [
    {
     "name": "stdout",
     "output_type": "stream",
     "text": [
      "-0.2611771213271988\n"
     ]
    }
   ],
   "source": [
    "yy = float( np.random.randn(1) )\n",
    "print(yy)"
   ]
  },
  {
   "cell_type": "markdown",
   "metadata": {},
   "source": [
    "This observation lies within the PI, as expected. A false positive would have occurred had this new observation lay outside the PI. \n",
    "\n",
    "Last, let's visualize the CI and PI together:"
   ]
  },
  {
   "cell_type": "code",
   "execution_count": 5,
   "metadata": {},
   "outputs": [
    {
     "data": {
      "image/png": "[encoded data removed]",
      "text/plain": [
       "<Figure size 576x288 with 1 Axes>"
      ]
     },
     "metadata": {
      "needs_background": "light"
     },
     "output_type": "display_data"
    }
   ],
   "source": [
    "fig, ax = plt.subplots(1, 1, figsize=(8, 4))\n",
    "plot_data(ax, y, plot_sample_mean=True, population_mean=0)\n",
    "plot_interval(ax, pi, color='b', height=0.5, label='Prediction Interval')\n",
    "plot_interval(ax, ci, color='r', height=1, label='Confidence Interval')\n",
    "ax.legend()\n",
    "plt.show()"
   ]
  },
  {
   "cell_type": "markdown",
   "metadata": {},
   "source": [
    "___\n",
    "\n",
    "### Numerically validating confidence and prediction intervals\n",
    "\n",
    "CIs can be numerically validated by simulating a large number of datasets, constructing the 95% CI for each experiment, and then checking whether the true mean lies within the CI. "
   ]
  },
  {
   "cell_type": "code",
   "execution_count": 6,
   "metadata": {},
   "outputs": [
    {
     "name": "stdout",
     "output_type": "stream",
     "text": [
      "Proportion of random datasets with mu inside CI: 0.944\n",
      "Proportion of random datasets with mu outside CI: 0.056\n"
     ]
    }
   ],
   "source": [
    "np.random.seed(0)  # seed the random number generator to replicate results\n",
    "J           = 10   # sample size\n",
    "niterations = 2000 # number of datasets / experiments to simulate\n",
    "in_ci       = []   # list that will hold one True or False value for each iteration\n",
    "mu          = 0    # true population mean\n",
    "alpha       = 0.05 # Type I error rate\n",
    "\n",
    "for i in range(niterations):\n",
    "    y       = mu + np.random.randn(J) #Gaussian data\n",
    "    ci      = confidence_interval(y, alpha)\n",
    "    in_ci.append( (mu>=ci[0]) and (mu<=ci[1])   )\n",
    "\n",
    "    \n",
    "prop_in     = np.mean( in_ci )  # proportion of experiments where the true mean lies inside the CI \n",
    "prop_out    = 1 - prop_in       # proportion of experiments where the true mean lies outside the CI \n",
    "\n",
    "print('Proportion of random datasets with mu inside CI: %.3f' %prop_in)\n",
    "print('Proportion of random datasets with mu outside CI: %.3f' %prop_out)"
   ]
  },
  {
   "cell_type": "markdown",
   "metadata": {},
   "source": [
    "The proprotion of random datasets with $\\mu$ outside the CI are, as expected, close to $\\alpha$. However, this proportion is not exactly $\\alpha$ becaus $\\alpha$ pertains to an infinite number of datasets, or `niterations` = $\\infty$. Increasing `niterations` to a larger number, like 10,000 or 100,000 or 1,000,000, should cause closer convergence to $\\alpha$.\n",
    "\n",
    "This general procedure of simulating random datasets will be used throughout this supplementary material.\n",
    "\n",
    "Let's repeat for prediction intervals:"
   ]
  },
  {
   "cell_type": "code",
   "execution_count": 7,
   "metadata": {},
   "outputs": [
    {
     "name": "stdout",
     "output_type": "stream",
     "text": [
      "Proportion of random datasets with new observation inside PI: 0.951\n",
      "Proportion of random datasets with new observation outside PI: 0.049\n"
     ]
    }
   ],
   "source": [
    "np.random.seed(1)   # seed the random number generator to replicate results\n",
    "J           = 8     # sample size\n",
    "niterations = 2000  # number of datasets / experiments to simulate\n",
    "in_pi       = []    # list that will hold one True or False value for each iteration\n",
    "mu          = 0     # true population mean\n",
    "alpha       = 0.05  # Type I error rate\n",
    "\n",
    "for i in range(niterations):\n",
    "    y       = mu + np.random.randn(J) # Gaussian data\n",
    "    yy      = float(mu + np.random.randn(1)) # a new random observation\n",
    "    pi      = prediction_interval(y, alpha)\n",
    "    in_pi.append( (yy>=pi[0]) and (yy<=pi[1])   )\n",
    "\n",
    "    \n",
    "prop_in     = np.mean( in_pi ) # proportion of experiments where the true mean lies inside the PI \n",
    "prop_out    = 1 - prop_in      # proportion of experiments where the true mean lies outside the PI \n",
    "\n",
    "print('Proportion of random datasets with new observation inside PI: %.3f' %prop_in)\n",
    "print('Proportion of random datasets with new observation outside PI: %.3f' %prop_out)"
   ]
  },
  {
   "cell_type": "markdown",
   "metadata": {},
   "source": [
    "Like above the results converge to $\\alpha$."
   ]
  },
  {
   "cell_type": "markdown",
   "metadata": {},
   "source": [
    "___\n",
    "\n",
    "### Summary\n",
    "\n",
    "This Appendix demonstrated the difference between CIs and PIs, how to calculate them, and how to numerically validate them using iterative, random dataset simulations. The key points are:\n",
    "\n",
    "* A false positive occurs for a CI when the true population mean lies outside the CI\n",
    "* A false positive occurs for a PI when a new, random observation lies outside the PI\n",
    "\n",
    "and\n",
    "\n",
    "* 95% CIs contain the true population mean with a probability of 0.95\n",
    "* 95% PIs contain a new, random observation with a probability of 0.95\n",
    "* 95% CIs and PIs both have false positive rates of $\\alpha$=0.05\n",
    "\n",
    "\n"
   ]
  }
 ],
 "metadata": {
  "kernelspec": {
   "display_name": "Python 3",
   "language": "python",
   "name": "python3"
  },
  "language_info": {
   "codemirror_mode": {
    "name": "ipython",
    "version": 3
   },
   "file_extension": ".py",
   "mimetype": "text/x-python",
   "name": "python",
   "nbconvert_exporter": "python",
   "pygments_lexer": "ipython3",
   "version": "3.6.9"
  }
 },
 "nbformat": 4,
 "nbformat_minor": 2
}
