{
 "cells": [
  {
   "cell_type": "markdown",
   "metadata": {},
   "source": [
    "\n",
    "\n",
    "# Appendix B:  Confidence and prediction intervals for bivariate 0D data\n",
    "\n",
    "This appendix describes how to construct and numerically validate [confidence ellipses](https://en.wikipedia.org/wiki/Confidence_region) (CEs) and [prediction ellipses](https://blogs.sas.com/content/iml/2014/07/23/prediction-ellipses-from-covariance.html) (PEs) for [bivariate](http://mathworld.wolfram.com/Bivariate.html) 0D data. \"Bivariate\" implies a two-component vector quantity, and \"0D\" implies a zero-dimensional, stationary process (i.e, a quantity that does not change over some domain like time).\n",
    "\n",
    "\n",
    "<p style=\"text-align: center;\"><b>Glossary</b></p>\n",
    "\n",
    "<table align=\"center\">\n",
    "  <tr>\n",
    "    <th style=\"text-align:center\">Symbol</th>\n",
    "    <th style=\"text-align:center\">Description</th>\n",
    "    <th style=\"text-align:center\">Comment</th>\n",
    "  </tr>\n",
    "  <tr>\n",
    "    <td style=\"text-align:center\">$\\alpha$</td>\n",
    "    <td style=\"text-align:center\">Type I error rate</td> \n",
    "    <td style=\"text-align:center\">$\\alpha=0.05$ by convention</td>\n",
    "  </tr>\n",
    "  <tr>\n",
    "    <td style=\"text-align:center\">$\\boldsymbol{\\mu}$</td>\n",
    "    <td style=\"text-align:center\">Population mean</td> \n",
    "    <td style=\"text-align:center\">$\\boldsymbol{\\mu} = \\{\\begin{smallmatrix}0 & 0\\end{smallmatrix}\\}^\\textrm{T}$ in all examples below </td>\n",
    "  </tr>\n",
    "  <tr>\n",
    "    <td style=\"text-align:center\">$\\boldsymbol{\\Omega}$</td>\n",
    "    <td style=\"text-align:center\">Population covariance matrix</td> \n",
    "    <td style=\"text-align:center\">$\\boldsymbol{\\Omega} = \\bigl[ \\begin{smallmatrix}1 & 0\\\\ 0 & 1\\end{smallmatrix} \\bigr]$ in all examples below</td>\n",
    "  </tr>\n",
    "  <tr>\n",
    "    <td style=\"text-align:center\">$\\nu_1$, $\\nu_2$</td>\n",
    "    <td style=\"text-align:center\">Degrees of freedom</td> \n",
    "    <td style=\"text-align:center\">For bivariate data: $\\nu_1=2$ , $\\nu_2 = (J-1)$</td>\n",
    "  </tr>\n",
    "  <tr>\n",
    "    <td style=\"text-align:center\">$c$</td>\n",
    "    <td style=\"text-align:center\">Critical test statistic value</td> \n",
    "    <td style=\"text-align:center\">From Hotelling's $T^2$ distribution</td>\n",
    "  </tr>\n",
    "  <tr>\n",
    "    <td style=\"text-align:center\">$\\boldsymbol{m}$</td>\n",
    "    <td style=\"text-align:center\">Sample mean</td> \n",
    "    <td style=\"text-align:center\"></td>\n",
    "  </tr>\n",
    "  <tr>\n",
    "    <td style=\"text-align:center\">$W$</td>\n",
    "    <td style=\"text-align:center\">Sample covariance matrix</td> \n",
    "    <td style=\"text-align:center\"></td>\n",
    "  </tr>\n",
    "  <tr>\n",
    "    <td style=\"text-align:center\">$\\lambda$</td>\n",
    "    <td style=\"text-align:center\">Eigenvalues of the sample covariance matrix</td> \n",
    "    <td style=\"text-align:center\"></td>\n",
    "  </tr>\n",
    "  <tr>\n",
    "    <td style=\"text-align:center\">$\\omega$</td>\n",
    "    <td style=\"text-align:center\">Eigenvectors of the sample covariance matrix</td> \n",
    "    <td style=\"text-align:center\"></td>\n",
    "  </tr>\n",
    "  <tr>\n",
    "    <td style=\"text-align:center\">$\\textit{J}$</td>\n",
    "    <td style=\"text-align:center\">Sample size</td> \n",
    "    <td style=\"text-align:center\"></td>\n",
    "  </tr>\n",
    "</table>\n",
    "\n",
    "\n"
   ]
  },
  {
   "cell_type": "markdown",
   "metadata": {},
   "source": [
    "___\n",
    "\n",
    "### Confidence ellipses (CEs)\n",
    "\n",
    "A 100(1-$\\alpha$)% [confidence ellipse](https://en.wikipedia.org/wiki/Confidence_region) contains the true population mean with a probability of (1-$\\alpha$). To demonstrate CE computation, let's start with random bivariate Gaussian data:"
   ]
  },
  {
   "cell_type": "code",
   "execution_count": 1,
   "metadata": {},
   "outputs": [
    {
     "data": {
      "text/plain": [
       "<Figure size 640x480 with 1 Axes>"
      ]
     },
     "metadata": {},
     "output_type": "display_data"
    }
   ],
   "source": [
    "from math import pi\n",
    "import numpy as np\n",
    "from scipy import stats\n",
    "from matplotlib import pyplot\n",
    "from matplotlib.patches import Polygon\n",
    "from matplotlib.collections import PatchCollection\n",
    "\n",
    "\n",
    "np.random.seed(2)      #seed the random number generator to replicate results\n",
    "mu    = [0, 0]         #population mean\n",
    "Omega = np.eye(2)      #population covariance (identity matrix in this example)\n",
    "J     = 50             #sample size\n",
    "r     = np.random.multivariate_normal(mu, Omega, J) #Gaussian data (standard normal distribution)\n",
    "x,y   = r.T\n",
    "\n",
    "\n",
    "ax    = pyplot.axes()\n",
    "ax.plot(x, y, 'o')\n",
    "ax.axhline(0, color='0.7', lw=0.5)\n",
    "ax.axvline(0, color='0.7', lw=0.5)\n",
    "ax.axis('equal')\n",
    "pyplot.show()"
   ]
  },
  {
   "cell_type": "markdown",
   "metadata": {},
   "source": [
    "The CE for this dataset can be constructed as follows:\n",
    "\n",
    "* Estimate the sample covariance matrix $\\boldsymbol{W}$\n",
    "* Calculate the eigenvalues and eigenvectors of $\\boldsymbol{W}$\n",
    "* Use the eigenvectors as the ellipse's principal axes\n",
    "* Use the eigenvalues as the ration between the lengths of the ellipse's principal axes\n",
    "* Scale the axes lengths by the critical Hotelling's $T^2$\n",
    "\n",
    "This process is illustrated below."
   ]
  },
  {
   "cell_type": "code",
   "execution_count": 2,
   "metadata": {},
   "outputs": [
    {
     "data": {
      "image/png": "[encoded data removed]",
      "text/plain": [
       "<Figure size 432x288 with 1 Axes>"
      ]
     },
     "metadata": {
      "needs_background": "light"
     },
     "output_type": "display_data"
    }
   ],
   "source": [
    "def sample(m, R, a, b, n=51):\n",
    "    '''\n",
    "    Sample n points around the periphery of an ellipse\n",
    "    '''\n",
    "    u        = np.linspace(0, 2*pi, n)\n",
    "    x        = a * np.cos(u)\n",
    "    y        = b * np.sin(u)\n",
    "    r        = np.vstack( [x,y] ).T \n",
    "    ellipse  = m + np.dot( r , R )\n",
    "    return ellipse\n",
    "\n",
    "def confidence_ellipse(r, alpha=0.05, n=51):\n",
    "    m        = r.mean(axis=0)      #sample mean\n",
    "    W        = np.cov(r.T, bias=1) #sample covariance\n",
    "    A,lam,R  = np.linalg.svd( W )  #eignproblem solved using singular value decomposition\n",
    "    J,v1     = r.shape             #sample size and degrees of freedom (numerator)\n",
    "    v2       = J - 1               #degrees of freedom, denominator\n",
    "    fcrit    = stats.f.isf(alpha, v1, v2)        #critical F value\n",
    "    c        = 2 * (J-1) / (J * (J-2)) * fcrit   #critical T2 value\n",
    "    a,b      = np.sqrt( c * lam )                #axis lengths\n",
    "    ellipse  = sample(m, R, a, b, n)\n",
    "    return ellipse\n",
    "\n",
    "\n",
    "#calculate and sample points from confidence ellipse:\n",
    "ellipse      = confidence_ellipse(r, alpha=0.05, n=51)\n",
    "xe,ye        = ellipse.T\n",
    "\n",
    "#plot:\n",
    "ax    = pyplot.axes()\n",
    "ax.plot(x, y, 'ko', label='Bivariate observations')\n",
    "ax.plot(xe, ye, 'r-', label='95% Confidence ellipse')\n",
    "ax.axhline(0, color='0.7', lw=0.5)\n",
    "ax.axvline(0, color='0.7', lw=0.5)\n",
    "ax.axis('equal')\n",
    "ax.legend()\n",
    "pyplot.show()"
   ]
  },
  {
   "cell_type": "markdown",
   "metadata": {},
   "source": [
    "In this plot it looks as though the CE contains the true population mean of $\\boldsymbol{\\mu} = \\{\\begin{smallmatrix}0 & 0\\end{smallmatrix}\\}^\\textrm{T}$, but it's not very clear. One way to determine if the point lies in the ellipse is to compare the directions of two vectors:\n",
    "\n",
    "* The vector from point *i* on the ellipse to the ellipse centroid\n",
    "* The vector from point *i* on the ellipse to the population mean\n",
    "\n",
    "If these two vectors have directions that are more than 90 deg apart, then the true population mean lies outside the ellipse."
   ]
  },
  {
   "cell_type": "code",
   "execution_count": 3,
   "metadata": {},
   "outputs": [
    {
     "name": "stdout",
     "output_type": "stream",
     "text": [
      "Point [0, 0] inside ellipse:  True\n"
     ]
    }
   ],
   "source": [
    "def inside_ellipse_approximate(ellipse, point):\n",
    "    x0,y0  = ellipse.mean(axis=0)  #ellipse centroid\n",
    "    xp,yp  = point                 \n",
    "    inside = True\n",
    "    for x,y in zip(*ellipse.T):\n",
    "        r0 = x-x0, y-y0\n",
    "        r1 = x-xp, y-yp\n",
    "        d  = np.dot(r0, r1)\n",
    "        if d < 0:\n",
    "            inside = False\n",
    "            break\n",
    "    return inside\n",
    "        \n",
    "point  = [0, 0]\n",
    "inside = inside_ellipse_approximate(ellipse, point)\n",
    "print('Point %s inside ellipse:  %s' %(point,inside))"
   ]
  },
  {
   "cell_type": "markdown",
   "metadata": {},
   "source": [
    "A more accurate way to check for ellipse containment is to transform the point from its current, global coordinate system, to the unit circular coordinate system implied by the ellipse (i.e., the sample mean and covariance), and then check if the distance from the sample mean to that point is smaller than one (inside the circle) or greater than one (outside the circle), like this:"
   ]
  },
  {
   "cell_type": "code",
   "execution_count": 4,
   "metadata": {},
   "outputs": [
    {
     "name": "stdout",
     "output_type": "stream",
     "text": [
      "Point [0, 0] inside confidence ellipse:  True\n"
     ]
    }
   ],
   "source": [
    "\n",
    "def inside_ce(r, point, alpha=0.05):\n",
    "    m        = r.mean(axis=0)      #sample mean\n",
    "    W        = np.cov(r.T, bias=1) #sample covariance\n",
    "    A,lam,R  = np.linalg.svd( W )  #eignproblem solved using singular value decomposition\n",
    "    J,v1     = r.shape             #sample size and degrees of freedom (numerator)\n",
    "    v2       = J - 1               #degrees of freedom, denominator\n",
    "    fcrit    = stats.f.isf(alpha, v1, v2)        #critical F value\n",
    "    c        = 2 * (J-1) / (J * (J-2)) * fcrit   #critical T2 value\n",
    "    axis_len = np.sqrt( c * lam )                #axis lengths\n",
    "    \n",
    "    rc       = np.array(point) - m   #centered points\n",
    "    rct      = np.asarray( np.matrix(R) * np.matrix(rc).T).T  #centered and un-rotated points\n",
    "    rad      = (rct**2 / axis_len**2).sum(axis=1)   #distance from center of centered, un-rotated and un-scaled points\n",
    "    inside   = float(rad) <= 1    #check if point lies inside or outside the unit sphere  \n",
    "    return inside\n",
    "\n",
    "point  = [0, 0]\n",
    "inside = inside_ce(r, point)\n",
    "print('Point %s inside confidence ellipse:  %s' %(point,inside))"
   ]
  },
  {
   "cell_type": "markdown",
   "metadata": {},
   "source": [
    "___\n",
    "\n",
    "### Prediction ellipses (PEs)\n",
    "\n",
    "A 100(1-$\\alpha$)% [prediction ellipse](https://blogs.sas.com/content/iml/2014/07/23/prediction-ellipses-from-covariance.html) contains a new, bivariate observation from the same population with a probability of (1-$\\alpha$)."
   ]
  },
  {
   "cell_type": "code",
   "execution_count": 5,
   "metadata": {},
   "outputs": [
    {
     "data": {
      "image/png": "[encoded data removed]",
      "text/plain": [
       "<Figure size 432x288 with 1 Axes>"
      ]
     },
     "metadata": {
      "needs_background": "light"
     },
     "output_type": "display_data"
    }
   ],
   "source": [
    "def prediction_ellipse(r, alpha=0.05, n=51):\n",
    "    m        = r.mean(axis=0)      #sample mean\n",
    "    W        = np.cov(r.T, bias=1) #sample covariance\n",
    "    A,lam,R  = np.linalg.svd( W )  #eignproblem solved using singular value decomposition\n",
    "    J,v1     = r.shape             #sample size and degrees of freedom (numerator)\n",
    "    v2       = J - 1               #degrees of freedom, denominator\n",
    "    fcrit    = stats.f.isf(alpha, v1, v2)        #critical F value\n",
    "    c        = 2 * (J+1) * (J-1) / (J * (J-2)) * fcrit   #PE scale\n",
    "    a,b      = np.sqrt( c * lam )                #axis lengths\n",
    "    ellipse  = sample(m, R, a, b, n)\n",
    "    return ellipse\n",
    "\n",
    "\n",
    "#calculate and sample points from confidence ellipse:\n",
    "ellipse_p    = prediction_ellipse(r, alpha=0.05, n=51)\n",
    "xe,ye        = ellipse_p.T\n",
    "\n",
    "#plot:\n",
    "ax    = pyplot.axes()\n",
    "ax.plot(x, y, 'ko', label='Bivariate observations')\n",
    "ax.plot(xe, ye, 'b-', label='95% Prediction ellipse')\n",
    "ax.axhline(0, color='0.7', lw=0.5)\n",
    "ax.axvline(0, color='0.7', lw=0.5)\n",
    "ax.axis('equal')\n",
    "pyplot.show()"
   ]
  },
  {
   "cell_type": "markdown",
   "metadata": {},
   "source": [
    "We can check if a new, random observation lies in the PE similar as follows:"
   ]
  },
  {
   "cell_type": "code",
   "execution_count": 6,
   "metadata": {},
   "outputs": [
    {
     "name": "stdout",
     "output_type": "stream",
     "text": [
      "Point [1.16152149 0.38607805] inside prediction ellipse:  True\n"
     ]
    }
   ],
   "source": [
    "point  = np.random.multivariate_normal(mu, Omega)\n",
    "inside = inside_ellipse_approximate(ellipse_p, point)\n",
    "\n",
    "print('Point %s inside prediction ellipse:  %s' %(point,inside))"
   ]
  },
  {
   "cell_type": "markdown",
   "metadata": {},
   "source": [
    "Like above we'll create a more exact function for checking point containment within the ellipse:"
   ]
  },
  {
   "cell_type": "code",
   "execution_count": 7,
   "metadata": {},
   "outputs": [
    {
     "name": "stdout",
     "output_type": "stream",
     "text": [
      "Point [-1.13313327  0.43309255] inside prediction ellipse:  True\n"
     ]
    }
   ],
   "source": [
    "def inside_pe(r, point, alpha=0.05):\n",
    "    m        = r.mean(axis=0)      #sample mean\n",
    "    W        = np.cov(r.T, bias=1) #sample covariance\n",
    "    A,lam,R  = np.linalg.svd( W )  #eignproblem solved using singular value decomposition\n",
    "    J,v1     = r.shape             #sample size and degrees of freedom (numerator)\n",
    "    v2       = J - 1               #degrees of freedom, denominator\n",
    "    fcrit    = stats.f.isf(alpha, v1, v2)        #critical F value\n",
    "    c        = 2 * (J+1) * (J-1) / (J * (J-2)) * fcrit   #PE scale\n",
    "    axis_len = np.sqrt( c * lam )                #axis lengths\n",
    "    \n",
    "    rc       = np.array(point) - m   #centered points\n",
    "    rct      = np.asarray( np.matrix(R) * np.matrix(rc).T).T  #centered and un-rotated points\n",
    "    rad      = (rct**2 / axis_len**2).sum(axis=1)   #distance from center of centered, un-rotated and un-scaled points\n",
    "    inside   = float(rad) <= 1    #check if point lies inside or outside the unit sphere  \n",
    "    return inside\n",
    "\n",
    "\n",
    "point  = np.random.multivariate_normal(mu, Omega)\n",
    "inside = inside_pe(r, point)\n",
    "\n",
    "print('Point %s inside prediction ellipse:  %s' %(point,inside))"
   ]
  },
  {
   "cell_type": "markdown",
   "metadata": {},
   "source": [
    "___\n",
    "\n",
    "### Numerically validating confidence and prediction ellipses\n",
    "\n",
    "Similar to Appendix A, let's numerically validate the `inside_ce` and `inside_pe` functions."
   ]
  },
  {
   "cell_type": "code",
   "execution_count": 8,
   "metadata": {},
   "outputs": [
    {
     "name": "stdout",
     "output_type": "stream",
     "text": [
      "Proportion of random datasets with mu inside CE: 0.948\n",
      "Proportion of random datasets with mu outside CE: 0.052\n"
     ]
    }
   ],
   "source": [
    "np.random.seed(0)   #seed the random number generator to replicate results\n",
    "J           = 20    #sample size\n",
    "niterations = 2000  #number of datasets / experiments to simulate\n",
    "in_ce       = []    #list that will hold one True or False value for each iteration\n",
    "mu          = [0,0] #true population mean\n",
    "Omega       = np.eye(2)  #true population covariance (identity matrix in this example)\n",
    "alpha       = 0.05  #Type I error rate\n",
    "\n",
    "for i in range(niterations):\n",
    "    r       = np.random.multivariate_normal(mu, Omega, J)\n",
    "    in_ce.append( inside_ce(r, mu, alpha) )\n",
    "    \n",
    "prop_in     = np.mean( in_ce )  #proportion of experiments where the true mean lies inside the CE \n",
    "prop_out    = 1 - prop_in       #proportion of experiments where the true mean lies outside the CE \n",
    "\n",
    "print('Proportion of random datasets with mu inside CE: %.3f' %prop_in)\n",
    "print('Proportion of random datasets with mu outside CE: %.3f' %prop_out)\n"
   ]
  },
  {
   "cell_type": "code",
   "execution_count": 9,
   "metadata": {},
   "outputs": [
    {
     "name": "stdout",
     "output_type": "stream",
     "text": [
      "Proportion of random datasets with mu inside PE: 0.952\n",
      "Proportion of random datasets with mu outside PE: 0.048\n"
     ]
    }
   ],
   "source": [
    "np.random.seed(100) #seed the random number generator to replicate results\n",
    "J           = 20    #sample size\n",
    "niterations = 2000  #number of datasets / experiments to simulate\n",
    "in_pe       = []    #list that will hold one True or False value for each iteration\n",
    "mu          = [0,0] #true population mean\n",
    "Omega       = np.eye(2)  #true population covariance (identity matrix in this example)\n",
    "alpha       = 0.05  #Type I error rate\n",
    "\n",
    "for i in range(niterations):\n",
    "    r       = np.random.multivariate_normal(mu, Omega, J)\n",
    "    rr      = np.random.multivariate_normal(mu, Omega)    #extra observation\n",
    "    in_pe.append( inside_pe(r, rr, alpha) )\n",
    "    \n",
    "prop_in     = np.mean( in_pe )  #proportion of experiments where the true mean lies inside the PE \n",
    "prop_out    = 1 - prop_in       #proportion of experiments where the true mean lies outside the PE \n",
    "\n",
    "print('Proportion of random datasets with mu inside PE: %.3f' %prop_in)\n",
    "print('Proportion of random datasets with mu outside PE: %.3f' %prop_out)"
   ]
  },
  {
   "cell_type": "markdown",
   "metadata": {},
   "source": [
    "Both the CE and PE Type I error rates approach $\\alpha$."
   ]
  },
  {
   "cell_type": "markdown",
   "metadata": {},
   "source": [
    "___\n",
    "\n",
    "### Summary\n",
    "\n",
    "This Appendix demonstrated the difference between CEs and PEs, how to calculate them, how to check whether points lie within the boundaries of the ellipse, and thus how to numerically validate these ellipses using iterative, random dataset simulations. Similar to Appendix A, the key points are:\n",
    "\n",
    "* A false positive occurs for a CE when the true population bivariate mean lies outside the CE\n",
    "* A false positive occurs for a PE when a new, random bivariate observation lies outside the PE\n",
    "\n",
    "and\n",
    "\n",
    "* 95% CEs contain the true population bivariate mean with a probability of 0.95\n",
    "* 95% PEs contain a new, random bivariate observation with a probability of 0.95\n",
    "* 95% CEs and PEs both have false positive rates of $\\alpha$=0.05\n",
    "\n"
   ]
  }
 ],
 "metadata": {
  "kernelspec": {
   "display_name": "Python 3",
   "language": "python",
   "name": "python3"
  },
  "language_info": {
   "codemirror_mode": {
    "name": "ipython",
    "version": 3
   },
   "file_extension": ".py",
   "mimetype": "text/x-python",
   "name": "python",
   "nbconvert_exporter": "python",
   "pygments_lexer": "ipython3",
   "version": "3.6.8"
  }
 },
 "nbformat": 4,
 "nbformat_minor": 2
}
