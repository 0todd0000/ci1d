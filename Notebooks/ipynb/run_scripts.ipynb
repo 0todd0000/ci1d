{
 "cells": [
  {
   "cell_type": "markdown",
   "metadata": {},
   "source": [
    "# Run scripts from [**ci1d**](https://github.com/0todd0000/ci1d) "
   ]
  },
  {
   "cell_type": "code",
   "execution_count": 1,
   "metadata": {},
   "outputs": [
    {
     "data": {
      "text/plain": [
       "'/Users/todd/GitHub/ci1d/Notebooks/ipynb'"
      ]
     },
     "execution_count": 1,
     "metadata": {},
     "output_type": "execute_result"
    }
   ],
   "source": [
    "%pwd"
   ]
  },
  {
   "cell_type": "code",
   "execution_count": 2,
   "metadata": {},
   "outputs": [],
   "source": [
    "import sys\n",
    "sys.path.append(r'./../../../ci1d/') # add c1d path to the current path"
   ]
  },
  {
   "cell_type": "code",
   "execution_count": 3,
   "metadata": {},
   "outputs": [
    {
     "name": "stdout",
     "output_type": "stream",
     "text": [
      "Proportion of random datasets with mu inside CI: 0.953\n",
      "Proportion of random datasets with mu outside CI: 0.047\n",
      "Proportion of random datasets with new observation inside PI: 0.951\n",
      "Proportion of random datasets with new observation outside PI: 0.049\n"
     ]
    }
   ],
   "source": [
    "%run \"./../../scripts/val_uv0d.py\""
   ]
  },
  {
   "cell_type": "code",
   "execution_count": 4,
   "metadata": {},
   "outputs": [
    {
     "name": "stdout",
     "output_type": "stream",
     "text": [
      "Proportion of random datasets with mu inside CI: 0.950\n",
      "Proportion of random datasets with mu outside CI: 0.050\n",
      "Proportion of random datasets with new observation inside PI: 0.940\n",
      "Proportion of random datasets with new observation outside PI: 0.060\n"
     ]
    }
   ],
   "source": [
    "%run \"./../../scripts/val_uv1d.py\""
   ]
  },
  {
   "cell_type": "code",
   "execution_count": 5,
   "metadata": {},
   "outputs": [
    {
     "name": "stdout",
     "output_type": "stream",
     "text": [
      "Iteration 0...\n",
      "Iteration 100...\n",
      "Iteration 200...\n",
      "Iteration 300...\n",
      "Iteration 400...\n",
      "Iteration 500...\n",
      "Iteration 600...\n",
      "Iteration 700...\n",
      "Proportion of random datasets with mu inside CE: 0.950\n",
      "Proportion of random datasets with mu outside CE: 0.050\n",
      "Proportion of random datasets with new observation inside PE: 0.936\n",
      "Proportion of random datasets with new observation outside PE: 0.064\n"
     ]
    }
   ],
   "source": [
    "%run \"./../../scripts/val_bv0d.py\""
   ]
  },
  {
   "cell_type": "code",
   "execution_count": 6,
   "metadata": {},
   "outputs": [
    {
     "name": "stdout",
     "output_type": "stream",
     "text": [
      "Iteration 0...\n",
      "Iteration 100...\n",
      "Iteration 200...\n",
      "Iteration 300...\n",
      "Iteration 400...\n",
      "Iteration 500...\n",
      "Iteration 600...\n",
      "Iteration 700...\n",
      "Proportion of random datasets with mu inside CE: 0.925\n",
      "Proportion of random datasets with mu outside CE: 0.075\n",
      "Proportion of random datasets with new observation inside PE: 0.920\n",
      "Proportion of random datasets with new observation outside PE: 0.080\n"
     ]
    }
   ],
   "source": [
    "%run \"./../../scripts/val_bv1d.py\""
   ]
  }
 ],
 "metadata": {
  "kernelspec": {
   "display_name": "Python 3",
   "language": "python",
   "name": "python3"
  },
  "language_info": {
   "codemirror_mode": {
    "name": "ipython",
    "version": 3
   },
   "file_extension": ".py",
   "mimetype": "text/x-python",
   "name": "python",
   "nbconvert_exporter": "python",
   "pygments_lexer": "ipython3",
   "version": "3.6.9"
  }
 },
 "nbformat": 4,
 "nbformat_minor": 2
}
