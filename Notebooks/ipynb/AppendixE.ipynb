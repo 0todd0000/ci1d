{
 "cells": [
  {
   "cell_type": "markdown",
   "metadata": {},
   "source": [
    "# Appendix E:  Confidence and prediction region calculations using ci1d\n",
    "\n",
    "This appendix demonstrates how use ci1d to compute and display:\n",
    "\n",
    "* Confidence regions (CRs) and prediction regions (PRs) including:\n",
    "    * Intervals for univariate 0D and 1D data\n",
    "    * Ellipses for bivariate 0D and 1Ddata"
   ]
  }
 ],
 "metadata": {
  "kernelspec": {
   "display_name": "Python 3",
   "language": "python",
   "name": "python3"
  },
  "language_info": {
   "codemirror_mode": {
    "name": "ipython",
    "version": 3
   },
   "file_extension": ".py",
   "mimetype": "text/x-python",
   "name": "python",
   "nbconvert_exporter": "python",
   "pygments_lexer": "ipython3",
   "version": "3.6.8"
  }
 },
 "nbformat": 4,
 "nbformat_minor": 2
}
