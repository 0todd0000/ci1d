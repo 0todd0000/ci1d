{
 "cells": [
  {
   "cell_type": "markdown",
   "metadata": {},
   "source": [
    "# Appendix D:  Hypothesis testing with 0D confidence regions"
   ]
  },
  {
   "cell_type": "markdown",
   "metadata": {},
   "source": [
    "___\n",
    "\n",
    "### One-sample tests for univariate 0D data\n",
    "\n",
    "A one-sample t test considers the null hypothesis:\n",
    "\n",
    "$\\overline{y} = \\mu$\n",
    "\n",
    "where $\\mu$ is the hypothesiszed mean.\n",
    "\n",
    "Let's first conduct an example two-tailed, one-sample t test using the `scipy.stats.ttest_1samp` function:"
   ]
  },
  {
   "cell_type": "code",
   "execution_count": 1,
   "metadata": {},
   "outputs": [
    {
     "name": "stdout",
     "output_type": "stream",
     "text": [
      "Ttest_1sampResult(statistic=3.05598561274506, pvalue=0.0184272539655784)\n"
     ]
    }
   ],
   "source": [
    "import numpy as np\n",
    "from scipy import stats\n",
    "%matplotlib inline\n",
    "from matplotlib import pyplot as plt\n",
    "from matplotlib.patches import Polygon\n",
    "from matplotlib.collections import PatchCollection\n",
    "\n",
    "\n",
    "# generate data:    \n",
    "np.random.seed(32)      # seed the random number generator to replicate results\n",
    "J  = 8                  # sample size\n",
    "mu = 0                  # hypothesized mean\n",
    "y  = np.random.randn(J) # Gaussian data (standard normal distribution)\n",
    "\n",
    "# t test:\n",
    "results = stats.ttest_1samp(y, mu)\n",
    "print(results)"
   ]
  },
  {
   "cell_type": "markdown",
   "metadata": {},
   "source": [
    "The p value is less than $\\alpha$=0.05, implying that the null hypothesis is rejected.\n",
    "\n",
    "Let's replicate this using manual computation of the t statistic, and probability calculation using the Student's t distribution."
   ]
  },
  {
   "cell_type": "code",
   "execution_count": 2,
   "metadata": {},
   "outputs": [
    {
     "name": "stdout",
     "output_type": "stream",
     "text": [
      "t = 3.05599, p = 0.01843\n"
     ]
    }
   ],
   "source": [
    "def t_one_sample(y, mu=0):\n",
    "    '''\n",
    "    Calculate one-sample t statistic (for univariate 0D data)\n",
    "    '''\n",
    "    return (y.mean()-mu) / (  y.std(ddof=1) / (y.size)**0.5  )\n",
    "\n",
    "t = t_one_sample(y, mu)     # one-sample test statistic\n",
    "p = 2 * stats.t.sf(t, J-1)  # survival function for the t distribution\n",
    "\n",
    "print('t = %.5f, p = %.5f' %(t, p))"
   ]
  },
  {
   "cell_type": "markdown",
   "metadata": {},
   "source": [
    "Here the survival function represents the probability that Gaussian data would produce a t value more extreme than the observed t value.\n",
    "\n",
    "We can also compute the critical threshold for $\\alpha$=0.05 using the inverse survival function:"
   ]
  },
  {
   "cell_type": "code",
   "execution_count": 3,
   "metadata": {},
   "outputs": [
    {
     "name": "stdout",
     "output_type": "stream",
     "text": [
      "Critical threshold: 1.895\n"
     ]
    }
   ],
   "source": [
    "alpha = 0.05                     # type I error rate\n",
    "c     = stats.t.isf(alpha, J-1)  # critical threshold (via inverse survival function)\n",
    "\n",
    "print('Critical threshold: %.3f' %c)"
   ]
  },
  {
   "cell_type": "markdown",
   "metadata": {},
   "source": [
    "The calculations above are also necessary to construct a one-sample confidence interval, as demonstrated in Appendix A and replicated below."
   ]
  },
  {
   "cell_type": "code",
   "execution_count": 4,
   "metadata": {},
   "outputs": [
    {
     "name": "stdout",
     "output_type": "stream",
     "text": [
      "Confidence interval: [0.16346608 1.28165372]\n"
     ]
    },
    {
     "data": {
      "image/png": "[encoded data removed]",
      "text/plain": [
       "<Figure size 576x288 with 1 Axes>"
      ]
     },
     "metadata": {
      "needs_background": "light"
     },
     "output_type": "display_data"
    }
   ],
   "source": [
    "def confidence_interval(y, alpha=0.05):\n",
    "    '''\n",
    "    Calculate confidence intervale for univariate 0D data\n",
    "    '''\n",
    "    ybar  = y.mean()                   #sample mean\n",
    "    s     = y.std(ddof=1)              #sample standard deviation\n",
    "    df    = J - 1                      #degrees of freedom\n",
    "    c     = stats.t.isf(alpha/2, df)   #critical test statistic\n",
    "    w     = c * s / J**0.5             #interval width (critical t statistic transformed to data units)\n",
    "    ci    = ybar-w, ybar+w             #confidence interval\n",
    "    return np.array(ci)\n",
    "\n",
    "\n",
    "def plot_data(ax, y, mu=0, plot_sample_mean=True, population_mean=None):\n",
    "    '''\n",
    "    Scatter plot for univariate 0D data\n",
    "    '''\n",
    "    ax.plot(y, np.zeros(J), 'ko', label='Observations')\n",
    "    if plot_sample_mean:\n",
    "        ax.plot(y.mean(), 0, 'ko', label='Sample mean', ms=15, mfc='w')\n",
    "    if population_mean is not None:\n",
    "        mu = population_mean\n",
    "        ax.plot(mu, 0, 'go', label='Hypothesized mean', ms=15, mfc='w', mew=5)\n",
    "        ax.axvline(mu, color='k', ls=':', zorder=-1)\n",
    "\n",
    "    \n",
    "def plot_interval(y, interval, color='r', height=1, alpha=0.05, label='Confidence Interval', zorder=0):\n",
    "    '''\n",
    "    Plot specified interval for univariate 0D data\n",
    "    '''\n",
    "    h,hh     = height, 0.5 * height\n",
    "    x        = interval\n",
    "    ax.plot( [x[0]]*2, [-h, h], color=color, label='%d%s %s' %(100*(1-alpha),'%', label), zorder=zorder)\n",
    "    ax.plot( [x[1]]*2, [-h, h], color=color, zorder=zorder)\n",
    "    vertices = [(x[0],-hh), (x[1],-hh),    (x[1],hh), (x[0],hh)]\n",
    "    patches  = PatchCollection([Polygon(vertices)])\n",
    "    ax.add_collection(patches)\n",
    "    plt.setp(patches, facecolor=color, alpha=0.5, linewidth=0, zorder=zorder)\n",
    "    ax.set_ylim(-2, 5)\n",
    "    ax.set_yticks([])\n",
    "    \n",
    "\n",
    "\n",
    "\n",
    "\n",
    "# compute 95% confidence interval:    \n",
    "ci  = confidence_interval(y, alpha)\n",
    "print('Confidence interval: %s' %ci)\n",
    "\n",
    "\n",
    "# plot:\n",
    "fig, ax = plt.subplots(1, 1, figsize=(8, 4))\n",
    "plot_data(ax, y, plot_sample_mean=True, population_mean=0)\n",
    "plot_interval(ax, ci)\n",
    "ax.legend()\n",
    "plt.show()"
   ]
  },
  {
   "cell_type": "markdown",
   "metadata": {},
   "source": [
    "The hypothesized mean lies outside the 95% confidence interval, so identical to the one-sample test abnove, the null hypothesis is rejected.\n",
    "\n",
    "To emphasize why the 95% CI is equivalent to a one-sample t test, let's compute t values and probability values as the hypothesized mean increases."
   ]
  },
  {
   "cell_type": "code",
   "execution_count": 5,
   "metadata": {},
   "outputs": [
    {
     "data": {
      "image/png": "[encoded data removed]",
      "text/plain": [
       "<Figure size 648x216 with 2 Axes>"
      ]
     },
     "metadata": {
      "needs_background": "light"
     },
     "output_type": "display_data"
    }
   ],
   "source": [
    "MU  = np.linspace(0, 0.25, 26)\n",
    "t   = [t_one_sample(y, x) for x in MU]\n",
    "p   = [2*stats.t.sf(tt, J-1) for tt in t]\n",
    "c   = stats.t.isf(alpha/2, J-1)\n",
    "\n",
    "# plot:\n",
    "plt.figure(figsize=(9,3))\n",
    "ax  = plt.subplot(121)\n",
    "ax.plot(MU, t)\n",
    "ax.axhline(c, color='r', ls='--', label='Critical t value')\n",
    "ax.set_xlabel('$\\mu$')\n",
    "ax.set_ylabel('t value')\n",
    "ax.legend()\n",
    "\n",
    "ax  = plt.subplot(122)\n",
    "ax.plot(MU, p)\n",
    "ax.axhline(0.05, color='r', ls='--', label=r'$\\alpha$=0.05')\n",
    "ax.set_xlabel('$\\mu$')\n",
    "ax.set_ylabel('p value')\n",
    "ax.legend()\n",
    "\n",
    "plt.show()\n"
   ]
  },
  {
   "cell_type": "markdown",
   "metadata": {},
   "source": [
    "The calculated t value crosses the critical threshold, and the p value becomes $\\alpha$=0.05, for approximately $\\mu$=0.16, which corresponds to the border of the 95% CI. \n",
    "\n",
    "Thus one-sample t tests and one-sample 95% CIs are statistically identical."
   ]
  },
  {
   "cell_type": "markdown",
   "metadata": {},
   "source": [
    "___\n",
    "\n",
    "### Two-sample tests for univariate 0D data\n",
    "\n",
    "Let's start with a two-sample t test on two samples of Gaussian 0D data."
   ]
  },
  {
   "cell_type": "code",
   "execution_count": 6,
   "metadata": {},
   "outputs": [
    {
     "name": "stdout",
     "output_type": "stream",
     "text": [
      "Ttest_indResult(statistic=2.6174705119522232, pvalue=0.020275653653260898)\n"
     ]
    }
   ],
   "source": [
    "np.random.seed(101)\n",
    "J       = 8\n",
    "yA      = np.random.randn(J)\n",
    "yB      = -0.5 + np.random.randn(J)\n",
    "\n",
    "results = stats.ttest_ind(yA, yB)\n",
    "\n",
    "print(results)\n"
   ]
  },
  {
   "cell_type": "markdown",
   "metadata": {},
   "source": [
    "Like above, let's replicate this result manually to emphasize the t statistic calculation, and how it relates to the subsequent CIs."
   ]
  },
  {
   "cell_type": "code",
   "execution_count": 7,
   "metadata": {},
   "outputs": [
    {
     "name": "stdout",
     "output_type": "stream",
     "text": [
      "t = 2.61747, p = 0.02028\n"
     ]
    }
   ],
   "source": [
    "def t_two_sample(yA, yB):\n",
    "    '''\n",
    "    Calculate two-sample t statistic (for univariate 0D data)\n",
    "    '''\n",
    "    mA,mB  = yA.mean(), yB.mean()\n",
    "    sA,sB  = yA.std(ddof=1), yB.std(ddof=1)\n",
    "    nA,nB  = yA.size, yB.size\n",
    "    s      = (   (  (nA-1)*sA*sA + (nB-1)*sB*sB  )  /  ( nA+nB-2 )   )**0.5\n",
    "    t      = (mA-mB) / s / (1.0/nA + 1.0/nB)**0.5\n",
    "    return t\n",
    "\n",
    "t          = t_two_sample(yA, yB)\n",
    "p          = 2 * stats.t.sf(t, 2*J-2)\n",
    "\n",
    "print('t = %.5f, p = %.5f' %(t, p))"
   ]
  },
  {
   "cell_type": "markdown",
   "metadata": {},
   "source": [
    "In order to construct CIs for this dataset, we need to use the two-sample t statistic defintion."
   ]
  },
  {
   "cell_type": "code",
   "execution_count": 8,
   "metadata": {},
   "outputs": [
    {
     "name": "stdout",
     "output_type": "stream",
     "text": [
      "CI width: 1.098\n"
     ]
    }
   ],
   "source": [
    "def confidence_interval_width(yA, yB, alpha=0.05):\n",
    "    '''\n",
    "    Compute confidence interval width (for univariate 0D data, two-sample test)\n",
    "    '''\n",
    "    sA,sB  = yA.std(ddof=1), yB.std(ddof=1)\n",
    "    nA,nB  = yA.size, yB.size\n",
    "    s      = (   (  (nA-1)*sA*sA + (nB-1)*sB*sB  )  /  ( nA+nB-2 )   )**0.5\n",
    "    c      = stats.t.isf(alpha/2, 2*J-2)\n",
    "    w      = c * s * (  (1/nA + 1/nB)**0.5  )\n",
    "    return w\n",
    "\n",
    "w   = confidence_interval_width(yA, yB, alpha)\n",
    "print('CI width: %.3f' %w)"
   ]
  },
  {
   "cell_type": "markdown",
   "metadata": {},
   "source": [
    "This CI width can be used in two different ways in order to replicate the two-sample results above.  The first is to use the mean as the threshold, like this:"
   ]
  },
  {
   "cell_type": "code",
   "execution_count": 9,
   "metadata": {},
   "outputs": [
    {
     "data": {
      "image/png": "[encoded data removed]",
      "text/plain": [
       "<Figure size 576x288 with 1 Axes>"
      ]
     },
     "metadata": {
      "needs_background": "light"
     },
     "output_type": "display_data"
    }
   ],
   "source": [
    "mA,mB     = yA.mean(), yB.mean()\n",
    "ciA       = mA-w, mA+w\n",
    "ciB       = mB-w, mB+w\n",
    "\n",
    "fig, ax   = plt.subplots(1, 1, figsize=(8, 4))\n",
    "ax.plot(mA, 0, 'ro', ms=12, zorder=1, label='Mean (Group A)')\n",
    "ax.plot(mB, 0, 'bo', ms=12, zorder=1, label='Mean (Group B)')\n",
    "plot_interval(yA, ciA, color='r', height=1, alpha=0.05, label='CI (Group A)', zorder=0)\n",
    "plot_interval(yB, ciB, color='b', height=0.5, alpha=0.05, label='CI (Group B)', zorder=0)\n",
    "ax.legend()\n",
    "plt.show()"
   ]
  },
  {
   "cell_type": "markdown",
   "metadata": {},
   "source": [
    "Since the CIs do not contain the other group's mean, the null hypothesis is rejected.  We can emphasize this point by altering the Group B data slighlty so that the p value becomes close to $\\alpha$."
   ]
  },
  {
   "cell_type": "code",
   "execution_count": 10,
   "metadata": {},
   "outputs": [
    {
     "name": "stdout",
     "output_type": "stream",
     "text": [
      "Ttest_indResult(statistic=2.1488034588411806, pvalue=0.049627476138910435)\n"
     ]
    }
   ],
   "source": [
    "np.random.seed(101)\n",
    "J       = 8\n",
    "yA      = np.random.randn(J)\n",
    "yB      = -0.26 + np.random.randn(J)\n",
    "\n",
    "results = stats.ttest_ind(yA, yB)\n",
    "\n",
    "print(results)"
   ]
  },
  {
   "cell_type": "markdown",
   "metadata": {},
   "source": [
    "Re-plotting the CIs emphasizes the mean thresholds:"
   ]
  },
  {
   "cell_type": "code",
   "execution_count": 11,
   "metadata": {},
   "outputs": [
    {
     "data": {
      "image/png": "[encoded data removed]",
      "text/plain": [
       "<Figure size 576x288 with 1 Axes>"
      ]
     },
     "metadata": {
      "needs_background": "light"
     },
     "output_type": "display_data"
    }
   ],
   "source": [
    "w         = confidence_interval_width(yA, yB, alpha)\n",
    "mA,mB     = yA.mean(), yB.mean()\n",
    "ciA       = mA-w, mA+w\n",
    "ciB       = mB-w, mB+w\n",
    "\n",
    "fig, ax   = plt.subplots(1, 1, figsize=(8, 4))\n",
    "ax.plot(mA, 0, 'ro', ms=12, zorder=1, label='Mean (Group A)')\n",
    "ax.plot(mB, 0, 'bo', ms=12, zorder=1, label='Mean (Group B)')\n",
    "plot_interval(yA, ciA, color='r', height=1, alpha=0.05, label='CI (Group A)', zorder=0)\n",
    "plot_interval(yB, ciB, color='b', height=0.5, alpha=0.05, label='CI (Group B)', zorder=0)\n",
    "ax.legend()\n",
    "plt.show()"
   ]
  },
  {
   "cell_type": "markdown",
   "metadata": {},
   "source": [
    "The second method is to use CI tail overlapping as the criterion for null hypothesis rejection. In this case we need to divide the CI width by two:"
   ]
  },
  {
   "cell_type": "code",
   "execution_count": 12,
   "metadata": {},
   "outputs": [
    {
     "data": {
      "image/png": "[encoded data removed]",
      "text/plain": [
       "<Figure size 576x288 with 1 Axes>"
      ]
     },
     "metadata": {
      "needs_background": "light"
     },
     "output_type": "display_data"
    }
   ],
   "source": [
    "w2        = w / 2\n",
    "mA,mB     = yA.mean(), yB.mean()\n",
    "ciA       = mA-w2, mA+w2\n",
    "ciB       = mB-w2, mB+w2\n",
    "\n",
    "fig, ax   = plt.subplots(1, 1, figsize=(8, 4))\n",
    "ax.plot(mA, 0, 'ro', ms=12, zorder=1, label='Mean (Group A)')\n",
    "ax.plot(mB, 0, 'bo', ms=12, zorder=1, label='Mean (Group B)')\n",
    "plot_interval(yA, ciA, color='r', height=1, alpha=0.05, label='CI (Group A)', zorder=0)\n",
    "plot_interval(yB, ciB, color='b', height=0.5, alpha=0.05, label='CI (Group B)', zorder=0)\n",
    "ax.legend()\n",
    "plt.show()\n"
   ]
  },
  {
   "cell_type": "markdown",
   "metadata": {},
   "source": [
    "In this case, lack of tail overlap implies null hypothesis rejection. However, as illustrated in this figure, it can be difficult to judge whether the two tails do, in fact overlap.\n",
    "\n",
    "Last, what if we were to compute one-sample CIs separately for these two samples?"
   ]
  },
  {
   "cell_type": "code",
   "execution_count": 13,
   "metadata": {},
   "outputs": [
    {
     "data": {
      "image/png": "[encoded data removed]",
      "text/plain": [
       "<Figure size 576x288 with 1 Axes>"
      ]
     },
     "metadata": {
      "needs_background": "light"
     },
     "output_type": "display_data"
    }
   ],
   "source": [
    "def confidence_interval_one_sample(y, alpha=0.05):\n",
    "    '''\n",
    "    Compute confidence interval width (for univariate 0D data, one-sample test)\n",
    "    '''\n",
    "    J    = y.size                    # sample size\n",
    "    ybar = y.mean()                  # sample mean\n",
    "    s    = y.std(ddof=1)             # sample standard deviation\n",
    "    df   = J - 1                     # degrees of freedom\n",
    "    c    = stats.t.isf(alpha/2, df)  # critical test statistic\n",
    "    w    = c * s / J**0.5            # interval width\n",
    "    ci   = ybar-w, ybar+w            # confidence interval\n",
    "    return np.array(ci)\n",
    "\n",
    "\n",
    "ciA = confidence_interval_one_sample(yA, alpha)\n",
    "ciB = confidence_interval_one_sample(yB, alpha)\n",
    "\n",
    "fig, ax = plt.subplots(1, 1, figsize=(8, 4))\n",
    "ax.plot(mA, 0, 'ro', ms=12, zorder=1, label='Mean (Group A)')\n",
    "ax.plot(mB, 0, 'bo', ms=12, zorder=1, label='Mean (Group B)')\n",
    "plot_interval(yA, ciA, color='r', height=1, alpha=0.05, label='CI (Group A)', zorder=0)\n",
    "plot_interval(yB, ciB, color='b', height=0.5, alpha=0.05, label='CI (Group B)', zorder=0)\n",
    "ax.legend()\n",
    "plt.show()"
   ]
  },
  {
   "cell_type": "markdown",
   "metadata": {},
   "source": [
    "We can see that these separately-computed, one-sample CIs are unrelated to the two-sample results. Thus ONLY two-sample CIs are appropriate for two-sample comparisons.\n",
    "\n",
    "Since confidence ellipses (Appendix B) are generalizations of CIs to bivariate data, the same is true for them: the appropriate confidence regions are design-dependent.  "
   ]
  },
  {
   "cell_type": "markdown",
   "metadata": {},
   "source": [
    "___\n",
    "\n",
    "### Summary\n",
    "\n",
    "* A one-sample t test is equivalent to a one-sample 95% CI\n",
    "* A two-sample t test is equivalent to a two-sample 95% CI, BUT\n",
    "  * There are two separate thresholds: mean, tail\n",
    "  * Correct CI interpretation requires specification of the threshold\n",
    "* A two-sample t test is NOT equivalent to a one-sample 95% CI"
   ]
  }
 ],
 "metadata": {
  "kernelspec": {
   "display_name": "Python 3",
   "language": "python",
   "name": "python3"
  },
  "language_info": {
   "codemirror_mode": {
    "name": "ipython",
    "version": 3
   },
   "file_extension": ".py",
   "mimetype": "text/x-python",
   "name": "python",
   "nbconvert_exporter": "python",
   "pygments_lexer": "ipython3",
   "version": "3.6.9"
  }
 },
 "nbformat": 4,
 "nbformat_minor": 2
}
